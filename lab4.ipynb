{
 "cells": [
  {
   "cell_type": "code",
   "execution_count": 19,
   "metadata": {},
   "outputs": [
    {
     "name": "stdout",
     "output_type": "stream",
     "text": [
      "    Unnamed: 0  Gender  FSIQ  VIQ  PIQ  Weight  Height  MRI_Count\n",
      "0            1  Female   133  132  124   118.0    64.5     816932\n",
      "1            2    Male   140  150  124     NaN    72.5    1001121\n",
      "2            3    Male   139  123  150   143.0    73.3    1038437\n",
      "3            4    Male   133  129  128   172.0    68.8     965353\n",
      "4            5  Female   137  132  134   147.0    65.0     951545\n",
      "5            6  Female    99   90  110   146.0    69.0     928799\n",
      "6            7  Female   138  136  131   138.0    64.5     991305\n",
      "7            8  Female    92   90   98   175.0    66.0     854258\n",
      "8            9    Male    89   93   84   134.0    66.3     904858\n",
      "9           10    Male   133  114  147   172.0    68.8     955466\n",
      "10          11  Female   132  129  124   118.0    64.5     833868\n",
      "11          12    Male   141  150  128   151.0    70.0    1079549\n",
      "12          13    Male   135  129  124   155.0    69.0     924059\n",
      "13          14  Female   140  120  147   155.0    70.5     856472\n",
      "14          15  Female    96  100   90   146.0    66.0     878897\n",
      "15          16  Female    83   71   96   135.0    68.0     865363\n",
      "16          17  Female   132  132  120   127.0    68.5     852244\n",
      "17          18    Male   100   96  102   178.0    73.5     945088\n",
      "18          19  Female   101  112   84   136.0    66.3     808020\n",
      "19          20    Male    80   77   86   180.0    70.0     889083\n",
      "20          21    Male    83   83   86     NaN     NaN     892420\n",
      "21          22    Male    97  107   84   186.0    76.5     905940\n",
      "22          23  Female   135  129  134   122.0    62.0     790619\n",
      "23          24    Male   139  145  128   132.0    68.0     955003\n",
      "24          25  Female    91   86  102   114.0    63.0     831772\n",
      "25          26    Male   141  145  131   171.0    72.0     935494\n",
      "26          27  Female    85   90   84   140.0    68.0     798612\n",
      "27          28    Male   103   96  110   187.0    77.0    1062462\n",
      "28          29  Female    77   83   72   106.0    63.0     793549\n",
      "29          30  Female   130  126  124   159.0    66.5     866662\n",
      "30          31  Female   133  126  132   127.0    62.5     857782\n",
      "31          32    Male   144  145  137   191.0    67.0     949589\n",
      "32          33    Male   103   96  110   192.0    75.5     997925\n",
      "33          34    Male    90   96   86   181.0    69.0     879987\n",
      "34          35  Female    83   90   81   143.0    66.5     834344\n",
      "35          36  Female   133  129  128   153.0    66.5     948066\n",
      "36          37    Male   140  150  124   144.0    70.5     949395\n",
      "37          38  Female    88   86   94   139.0    64.5     893983\n",
      "38          39    Male    81   90   74   148.0    74.0     930016\n",
      "39          40    Male    89   91   89   179.0    75.5     935863\n",
      "         cos       sin         t\n",
      "0   0.960170  0.279415 -6.000000\n",
      "1   0.609977  0.792419 -5.368421\n",
      "2   0.024451  0.999701 -4.736842\n",
      "3  -0.570509  0.821291 -4.105263\n",
      "4  -0.945363  0.326021 -3.473684\n",
      "5  -0.955488 -0.295030 -2.842105\n",
      "6  -0.596979 -0.802257 -2.210526\n",
      "7  -0.008151 -0.999967 -1.578947\n",
      "8   0.583822 -0.811882 -0.947368\n",
      "9   0.950551 -0.310567 -0.315789\n",
      "10  0.950551  0.310567  0.315789\n",
      "11  0.583822  0.811882  0.947368\n",
      "12 -0.008151  0.999967  1.578947\n",
      "13 -0.596979  0.802257  2.210526\n",
      "14 -0.955488  0.295030  2.842105\n",
      "15 -0.945363 -0.326021  3.473684\n",
      "16 -0.570509 -0.821291  4.105263\n",
      "17  0.024451 -0.999701  4.736842\n",
      "18  0.609977 -0.792419  5.368421\n",
      "19  0.960170 -0.279415  6.000000\n",
      "<class 'pandas.core.frame.DataFrame'>\n"
     ]
    }
   ],
   "source": [
    "#task 1\n",
    "import pandas\n",
    "import numpy as np\n",
    "\n",
    "data = pandas.read_csv('brain_size.csv', sep=';', na_values=\".\")\n",
    "print(data)\n",
    "t = np.linspace(-6, 6, 20)\n",
    "sin_t = np.sin(t)\n",
    "cos_t = np.cos(t)\n",
    "\n",
    "data1 = pandas.DataFrame({'t' : t, 'sin' : sin_t, 'cos' : cos_t})\n",
    "print(data1)\n",
    "print(type(data1))"
   ]
  },
  {
   "cell_type": "code",
   "execution_count": 20,
   "metadata": {},
   "outputs": [
    {
     "name": "stdout",
     "output_type": "stream",
     "text": [
      "(40, 8)\n",
      "Index([u'Unnamed: 0', u'Gender', u'FSIQ', u'VIQ', u'PIQ', u'Weight', u'Height',\n",
      "       u'MRI_Count'],\n",
      "      dtype='object')\n",
      "0     Female\n",
      "1       Male\n",
      "2       Male\n",
      "3       Male\n",
      "4     Female\n",
      "5     Female\n",
      "6     Female\n",
      "7     Female\n",
      "8       Male\n",
      "9       Male\n",
      "10    Female\n",
      "11      Male\n",
      "12      Male\n",
      "13    Female\n",
      "14    Female\n",
      "15    Female\n",
      "16    Female\n",
      "17      Male\n",
      "18    Female\n",
      "19      Male\n",
      "20      Male\n",
      "21      Male\n",
      "22    Female\n",
      "23      Male\n",
      "24    Female\n",
      "25      Male\n",
      "26    Female\n",
      "27      Male\n",
      "28    Female\n",
      "29    Female\n",
      "30    Female\n",
      "31      Male\n",
      "32      Male\n",
      "33      Male\n",
      "34    Female\n",
      "35    Female\n",
      "36      Male\n",
      "37    Female\n",
      "38      Male\n",
      "39      Male\n",
      "Name: Gender, dtype: object\n",
      "109.45\n",
      "('Female', 109.45)\n",
      "('Male', 115.25)\n",
      "        Unnamed: 0   FSIQ     VIQ     PIQ      Weight     Height  MRI_Count\n",
      "Gender                                                                     \n",
      "Female       19.65  111.9  109.45  110.45  137.200000  65.765000   862654.6\n",
      "Male         21.35  115.0  115.25  111.60  166.444444  71.431579   954855.4\n",
      "112.35\n",
      "('Female', 20)\n",
      "('Male', 20)\n",
      "('Female', 862654.6)\n",
      "('Male', 954855.4)\n"
     ]
    }
   ],
   "source": [
    "#task 2\n",
    "print(data.shape)\n",
    "print(data.columns)\n",
    "print(data['Gender'])\n",
    "print(data[data['Gender'] == 'Female']['VIQ'].mean())\n",
    "\n",
    "groupby_gender = data.groupby('Gender')\n",
    "for gender, value in groupby_gender['VIQ']:\n",
    "    print((gender, value.mean()))\n",
    "print(groupby_gender.mean())\n",
    "\n",
    "#print mean VIQ\n",
    "print(data['VIQ'].mean())\n",
    "#count males and females\n",
    "for gender, value in groupby_gender['Gender']:\n",
    "    print(gender, value.count())\n",
    "#mean MRI for males and females\n",
    "for gender, value in groupby_gender['MRI_Count']:\n",
    "    print(gender, value.mean())"
   ]
  },
  {
   "cell_type": "code",
   "execution_count": 29,
   "metadata": {},
   "outputs": [
    {
     "data": {
      "text/plain": [
       "array([[<matplotlib.axes._subplots.AxesSubplot object at 0x000000000EAD6D68>,\n",
       "        <matplotlib.axes._subplots.AxesSubplot object at 0x000000000EBC6B00>,\n",
       "        <matplotlib.axes._subplots.AxesSubplot object at 0x000000000EC95320>],\n",
       "       [<matplotlib.axes._subplots.AxesSubplot object at 0x000000000ED8EEB8>,\n",
       "        <matplotlib.axes._subplots.AxesSubplot object at 0x000000000EEAFA90>,\n",
       "        <matplotlib.axes._subplots.AxesSubplot object at 0x000000000EF25320>],\n",
       "       [<matplotlib.axes._subplots.AxesSubplot object at 0x000000000F065DD8>,\n",
       "        <matplotlib.axes._subplots.AxesSubplot object at 0x000000000F15F710>,\n",
       "        <matplotlib.axes._subplots.AxesSubplot object at 0x000000000F229518>]], dtype=object)"
      ]
     },
     "execution_count": 29,
     "metadata": {},
     "output_type": "execute_result"
    }
   ],
   "source": [
    "#task 3\n",
    "from pandas import plotting\n",
    "plotting.scatter_matrix(data[['Weight', 'Height', 'MRI_Count']])"
   ]
  },
  {
   "cell_type": "code",
   "execution_count": 35,
   "metadata": {},
   "outputs": [
    {
     "name": "stdout",
     "output_type": "stream",
     "text": [
      "Ttest_indResult(statistic=-0.77261617232750113, pvalue=0.44452876778583217)\n",
      "Ttest_indResult(statistic=0.46563759638096403, pvalue=0.64277250094148408)\n",
      "Ttest_relResult(statistic=1.7842019405859857, pvalue=0.082172638183642358)\n",
      "Ttest_1sampResult(statistic=1.7842019405859857, pvalue=0.082172638183642358)\n"
     ]
    }
   ],
   "source": [
    "#task 4\n",
    "from scipy import stats\n",
    "stats.ttest_1samp(data['VIQ'], 0)\n",
    "\n",
    "female_viq = data[data['Gender'] == 'Female']['VIQ']\n",
    "male_viq = data[data['Gender'] == 'Male']['VIQ']\n",
    "print(stats.ttest_ind(female_viq, male_viq))\n",
    "\n",
    "print(stats.ttest_ind(data['FSIQ'], data['PIQ']))\n",
    "print(stats.ttest_rel(data['FSIQ'], data['PIQ']))\n",
    "print(stats.ttest_1samp(data['FSIQ'] - data['PIQ'], 0))"
   ]
  },
  {
   "cell_type": "code",
   "execution_count": 36,
   "metadata": {},
   "outputs": [
    {
     "ename": "ImportError",
     "evalue": "No module named statmodels.formula.api",
     "output_type": "error",
     "traceback": [
      "\u001b[1;31m\u001b[0m",
      "\u001b[1;31mImportError\u001b[0mTraceback (most recent call last)",
      "\u001b[1;32m<ipython-input-36-745d1033ce1c>\u001b[0m in \u001b[0;36m<module>\u001b[1;34m()\u001b[0m\n\u001b[0;32m      1\u001b[0m \u001b[1;31m#task 5\u001b[0m\u001b[1;33m\u001b[0m\u001b[1;33m\u001b[0m\u001b[0m\n\u001b[0;32m      2\u001b[0m \u001b[1;32mimport\u001b[0m \u001b[0mnumpy\u001b[0m \u001b[1;32mas\u001b[0m \u001b[0mnp\u001b[0m\u001b[1;33m\u001b[0m\u001b[0m\n\u001b[1;32m----> 3\u001b[1;33m \u001b[1;32mfrom\u001b[0m \u001b[0mstatmodels\u001b[0m\u001b[1;33m.\u001b[0m\u001b[0mformula\u001b[0m\u001b[1;33m.\u001b[0m\u001b[0mapi\u001b[0m \u001b[1;32mimport\u001b[0m \u001b[0mols\u001b[0m\u001b[1;33m\u001b[0m\u001b[0m\n\u001b[0m\u001b[0;32m      4\u001b[0m \u001b[1;33m\u001b[0m\u001b[0m\n\u001b[0;32m      5\u001b[0m \u001b[0mx\u001b[0m \u001b[1;33m=\u001b[0m \u001b[0mnp\u001b[0m\u001b[1;33m.\u001b[0m\u001b[0mlinsapce\u001b[0m\u001b[1;33m(\u001b[0m\u001b[1;33m-\u001b[0m\u001b[1;36m5\u001b[0m\u001b[1;33m,\u001b[0m \u001b[1;36m5\u001b[0m\u001b[1;33m,\u001b[0m \u001b[1;36m20\u001b[0m\u001b[1;33m)\u001b[0m\u001b[1;33m\u001b[0m\u001b[0m\n",
      "\u001b[1;31mImportError\u001b[0m: No module named statmodels.formula.api"
     ]
    }
   ],
   "source": [
    "#task 5\n",
    "import numpy as np\n",
    "from statmodels.formula.api import ols\n",
    "\n",
    "x = np.linsapce(-5, 5, 20)\n",
    "np.random.seed(1)\n",
    "\n",
    "y = -5 + 3 * x + 4 * np.random.normal(size=x.shape)\n",
    "data = pandas.DataFrame({'x' : x, 'y' : y})"
   ]
  },
  {
   "cell_type": "code",
   "execution_count": null,
   "metadata": {
    "collapsed": true
   },
   "outputs": [],
   "source": []
  }
 ],
 "metadata": {
  "kernelspec": {
   "display_name": "Python 2",
   "language": "python",
   "name": "python2"
  },
  "language_info": {
   "codemirror_mode": {
    "name": "ipython",
    "version": 2
   },
   "file_extension": ".py",
   "mimetype": "text/x-python",
   "name": "python",
   "nbconvert_exporter": "python",
   "pygments_lexer": "ipython2",
   "version": "2.7.13"
  }
 },
 "nbformat": 4,
 "nbformat_minor": 2
}
