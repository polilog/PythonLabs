{
 "cells": [
  {
   "cell_type": "code",
   "execution_count": 1,
   "metadata": {},
   "outputs": [
    {
     "name": "stdout",
     "output_type": "stream",
     "text": [
      "[[ 0  1  2  3  4]\n",
      " [ 5  6  7  8  9]\n",
      " [10 11 12 13 14]]\n",
      "2\n",
      "int32\n",
      "4\n",
      "60\n",
      "15\n"
     ]
    }
   ],
   "source": [
    "#task 1\n",
    "import numpy as np\n",
    "a = np.arange(15).reshape(3, 5)\n",
    "print(a)\n",
    "print(a.ndim)\n",
    "print(a.dtype)\n",
    "print(a.itemsize)\n",
    "print(a.size * a.itemsize)\n",
    "print(a.size)\n",
    "b = np.array([6, 7, 8])"
   ]
  },
  {
   "cell_type": "code",
   "execution_count": 2,
   "metadata": {
    "scrolled": true
   },
   "outputs": [
    {
     "name": "stdout",
     "output_type": "stream",
     "text": [
      "[2 3 4]\n",
      "int32\n",
      "[1.2 3.5 5.1]\n",
      "float64\n",
      "[[1.+0.j 2.+0.j]\n",
      " [3.+0.j 4.+0.j]]\n",
      "[0.  0.3 0.6 0.9 1.2 1.5 1.8]\n",
      "[0.   0.25 0.5  0.75 1.   1.25 1.5  1.75 2.  ] [0.         0.06346652 0.12693304 0.19039955 0.25386607 0.31733259\n",
      " 0.38079911 0.44426563 0.50773215 0.57119866 0.63466518 0.6981317\n",
      " 0.76159822 0.82506474 0.88853126 0.95199777 1.01546429 1.07893081\n",
      " 1.14239733 1.20586385 1.26933037 1.33279688 1.3962634  1.45972992\n",
      " 1.52319644 1.58666296 1.65012947 1.71359599 1.77706251 1.84052903\n",
      " 1.90399555 1.96746207 2.03092858 2.0943951  2.15786162 2.22132814\n",
      " 2.28479466 2.34826118 2.41172769 2.47519421 2.53866073 2.60212725\n",
      " 2.66559377 2.72906028 2.7925268  2.85599332 2.91945984 2.98292636\n",
      " 3.04639288 3.10985939 3.17332591 3.23679243 3.30025895 3.36372547\n",
      " 3.42719199 3.4906585  3.55412502 3.61759154 3.68105806 3.74452458\n",
      " 3.8079911  3.87145761 3.93492413 3.99839065 4.06185717 4.12532369\n",
      " 4.1887902  4.25225672 4.31572324 4.37918976 4.44265628 4.5061228\n",
      " 4.56958931 4.63305583 4.69652235 4.75998887 4.82345539 4.88692191\n",
      " 4.95038842 5.01385494 5.07732146 5.14078798 5.2042545  5.26772102\n",
      " 5.33118753 5.39465405 5.45812057 5.52158709 5.58505361 5.64852012\n",
      " 5.71198664 5.77545316 5.83891968 5.9023862  5.96585272 6.02931923\n",
      " 6.09278575 6.15625227 6.21971879 6.28318531] [ 0.00000000e+00  6.34239197e-02  1.26592454e-01  1.89251244e-01\n",
      "  2.51147987e-01  3.12033446e-01  3.71662456e-01  4.29794912e-01\n",
      "  4.86196736e-01  5.40640817e-01  5.92907929e-01  6.42787610e-01\n",
      "  6.90079011e-01  7.34591709e-01  7.76146464e-01  8.14575952e-01\n",
      "  8.49725430e-01  8.81453363e-01  9.09631995e-01  9.34147860e-01\n",
      "  9.54902241e-01  9.71811568e-01  9.84807753e-01  9.93838464e-01\n",
      "  9.98867339e-01  9.99874128e-01  9.96854776e-01  9.89821442e-01\n",
      "  9.78802446e-01  9.63842159e-01  9.45000819e-01  9.22354294e-01\n",
      "  8.95993774e-01  8.66025404e-01  8.32569855e-01  7.95761841e-01\n",
      "  7.55749574e-01  7.12694171e-01  6.66769001e-01  6.18158986e-01\n",
      "  5.67059864e-01  5.13677392e-01  4.58226522e-01  4.00930535e-01\n",
      "  3.42020143e-01  2.81732557e-01  2.20310533e-01  1.58001396e-01\n",
      "  9.50560433e-02  3.17279335e-02 -3.17279335e-02 -9.50560433e-02\n",
      " -1.58001396e-01 -2.20310533e-01 -2.81732557e-01 -3.42020143e-01\n",
      " -4.00930535e-01 -4.58226522e-01 -5.13677392e-01 -5.67059864e-01\n",
      " -6.18158986e-01 -6.66769001e-01 -7.12694171e-01 -7.55749574e-01\n",
      " -7.95761841e-01 -8.32569855e-01 -8.66025404e-01 -8.95993774e-01\n",
      " -9.22354294e-01 -9.45000819e-01 -9.63842159e-01 -9.78802446e-01\n",
      " -9.89821442e-01 -9.96854776e-01 -9.99874128e-01 -9.98867339e-01\n",
      " -9.93838464e-01 -9.84807753e-01 -9.71811568e-01 -9.54902241e-01\n",
      " -9.34147860e-01 -9.09631995e-01 -8.81453363e-01 -8.49725430e-01\n",
      " -8.14575952e-01 -7.76146464e-01 -7.34591709e-01 -6.90079011e-01\n",
      " -6.42787610e-01 -5.92907929e-01 -5.40640817e-01 -4.86196736e-01\n",
      " -4.29794912e-01 -3.71662456e-01 -3.12033446e-01 -2.51147987e-01\n",
      " -1.89251244e-01 -1.26592454e-01 -6.34239197e-02 -2.44929360e-16]\n",
      "[[0. 0. 0. 0.]\n",
      " [0. 0. 0. 0.]\n",
      " [0. 0. 0. 0.]]\n",
      "[[1. 1. 1. 1.]\n",
      " [1. 1. 1. 1.]\n",
      " [1. 1. 1. 1.]]\n",
      "[[ True False False]\n",
      " [False  True False]\n",
      " [False False  True]]\n"
     ]
    }
   ],
   "source": [
    "#task2\n",
    "import numpy as np\n",
    "from numpy import pi\n",
    "\n",
    "a = np.array([2, 3, 4])\n",
    "print(a)\n",
    "print(a.dtype)\n",
    "b = np.array([1.2, 3.5, 5.1])\n",
    "print(b)\n",
    "print(b.dtype)\n",
    "c = np.array([[1, 2], [3, 4]], dtype=complex)\n",
    "print(c)\n",
    "d = np.arange(0, 2, 0.3)\n",
    "print(d)\n",
    "\n",
    "e = np.linspace(0, 2, 9) #takes number of elements\n",
    "x = np.linspace(0, 2*pi, 100)\n",
    "f = np.sin(x)\n",
    "print(e, x, f)\n",
    "#set_printoptions\n",
    "print(np.zeros((3, 4)))\n",
    "print(np.ones((3, 4)))\n",
    "#zeros_like Return an array of zeros with the same shape and type as a given array.\n",
    "print(np.fromfunction(lambda i, j: i == j, (3, 3), dtype=int))\n",
    "#fromfile Construct an array from data in a text or binary file.\n"
   ]
  },
  {
   "cell_type": "code",
   "execution_count": 6,
   "metadata": {},
   "outputs": [],
   "source": [
    "np.random.randn?"
   ]
  },
  {
   "cell_type": "code",
   "execution_count": 3,
   "metadata": {},
   "outputs": [
    {
     "name": "stdout",
     "output_type": "stream",
     "text": [
      "[[2 0]\n",
      " [0 4]]\n",
      "[[5 4]\n",
      " [3 4]]\n",
      "[12 15 18 21]\n",
      "[ 6 22 38]\n",
      "[[ 0  1  2  3]\n",
      " [ 4  5  6  7]\n",
      " [ 8  9 10 11]]\n",
      "11\n",
      "[ 8  9 10 11]\n",
      "[ 3  7 11]\n"
     ]
    }
   ],
   "source": [
    "#task 3\n",
    "a = np.array([20, 30, 40, 50])\n",
    "b = np.arange(4)\n",
    "c = a - b\n",
    "d = b ** 2\n",
    "f = 10 * np.sin(a)\n",
    "k = a < 35\n",
    "\n",
    "A = np.array([[1, 1], [0, 1]])\n",
    "B = np.array([[2, 0], [3, 4]])\n",
    "print(A * B)\n",
    "print(np.dot(A, B))\n",
    "\n",
    "e = np.arange(12).reshape(3, 4)\n",
    "s1 = e.sum(axis=0)\n",
    "print(s1)\n",
    "s2 = e.sum(axis=1)\n",
    "print(s2)\n",
    "# sum Sum of array elements over a given axis.\n",
    "# cumsum Return the cumulative sum of the elements along a given axis.\n",
    "# sin, cos и exp\n",
    "print(e)\n",
    "print(np.amax(e))\n",
    "print(np.amax(e, axis=0))\n",
    "print(np.amax(e, axis=1))"
   ]
  },
  {
   "cell_type": "code",
   "execution_count": 10,
   "metadata": {},
   "outputs": [
    {
     "name": "stdout",
     "output_type": "stream",
     "text": [
      "8\n",
      "[ 8 27 64]\n",
      "[-1000     1 -1000    27 -1000   125   216   343   512   729]\n",
      "[  729   512   343   216   125 -1000    27 -1000     1 -1000]\n",
      "nan\n",
      "1.0\n",
      "nan\n",
      "3.0\n",
      "nan\n",
      "5.0\n",
      "5.999999999999999\n",
      "6.999999999999999\n",
      "7.999999999999999\n",
      "8.999999999999998\n",
      "11.0\n",
      "[ 1.  5.  9. 13. 17.]\n",
      "[ 1.  5.  9. 13. 17.]\n",
      "[[ 4.  5.  6.  7.]\n",
      " [ 8.  9. 10. 11.]]\n",
      "[16. 17. 18. 19.]\n",
      "[[[  0   1   2]\n",
      "  [ 10  11  12]]\n",
      "\n",
      " [[100 101 102]\n",
      "  [110 111 112]]]\n",
      "[[100 101 102]\n",
      " [110 111 112]]\n",
      "[[  2  12]\n",
      " [102 112]]\n",
      "[[ 0.  1.  2.  3.]\n",
      " [ 4.  5.  6.  7.]\n",
      " [ 8.  9. 10. 11.]\n",
      " [12. 13. 14. 15.]\n",
      " [16. 17. 18. 19.]]\n",
      "[[ 0.  1.  2.  3.]\n",
      " [ 4.  5.  6.  7.]\n",
      " [ 8.  9. 10. 11.]\n",
      " [12. 13. 14. 15.]\n",
      " [16. 17. 18. 19.]]\n",
      "[[ 0.  1.  2.  3.]\n",
      " [ 4.  5.  6.  7.]\n",
      " [ 8.  9. 10. 11.]\n",
      " [12. 13. 14. 15.]\n",
      " [16. 17. 18. 19.]]\n",
      "[[ 0.  1.  2.  3.]\n",
      " [ 4.  5.  6.  7.]\n",
      " [ 8.  9. 10. 11.]\n",
      " [12. 13. 14. 15.]\n",
      " [16. 17. 18. 19.]]\n",
      "[[ 0.  1.  2.  3.]\n",
      " [ 4.  5.  6.  7.]\n",
      " [ 8.  9. 10. 11.]\n",
      " [12. 13. 14. 15.]\n",
      " [16. 17. 18. 19.]]\n",
      "0.0\n",
      "1.0\n",
      "2.0\n",
      "3.0\n",
      "4.0\n",
      "5.0\n",
      "6.0\n",
      "7.0\n",
      "8.0\n",
      "9.0\n",
      "10.0\n",
      "11.0\n",
      "12.0\n",
      "13.0\n",
      "14.0\n",
      "15.0\n",
      "16.0\n",
      "17.0\n",
      "18.0\n",
      "19.0\n"
     ]
    },
    {
     "name": "stderr",
     "output_type": "stream",
     "text": [
      "E:\\Anaconda\\Anaconda3\\lib\\site-packages\\ipykernel_launcher.py:9: RuntimeWarning: invalid value encountered in power\n",
      "  if __name__ == '__main__':\n"
     ]
    }
   ],
   "source": [
    "#task 4\n",
    "a = np.arange(10)**3\n",
    "print(a[2])\n",
    "print(a[2:5])\n",
    "a[:6:2] = -1000\n",
    "print(a)\n",
    "print(a[::-1])\n",
    "for i in a:\n",
    "    print(i**(1./3))\n",
    "b = np.arange(20, dtype=float).reshape(5, 4)\n",
    "print(b[2,3])\n",
    "print(b[0:5, 1])\n",
    "print(b[:, 1])\n",
    "print(b[1:3, :])\n",
    "print(b[-1]) #b[-1, :]\n",
    "c = np.array([[[0, 1, 2], [10, 11, 12]], [[100, 101, 102], [110, 111, 112]]])\n",
    "print(c)\n",
    "print(c[1, ...])\n",
    "print(c[..., 2])\n",
    "for row in b:\n",
    "    print(b)\n",
    "for element in b.flat:\n",
    "    print(element)"
   ]
  },
  {
   "cell_type": "code",
   "execution_count": null,
   "metadata": {},
   "outputs": [],
   "source": []
  },
  {
   "cell_type": "code",
   "execution_count": 9,
   "metadata": {},
   "outputs": [
    {
     "name": "stdout",
     "output_type": "stream",
     "text": [
      "[[5. 6. 5. 5.]\n",
      " [9. 8. 6. 3.]\n",
      " [9. 0. 3. 8.]]\n",
      "(3, 4)\n",
      "[5. 6. 5. 5. 9. 8. 6. 3. 9. 0. 3. 8.]\n",
      "[[5. 6.]\n",
      " [5. 5.]\n",
      " [9. 8.]\n",
      " [6. 3.]\n",
      " [9. 0.]\n",
      " [3. 8.]]\n",
      "[[5. 9. 9.]\n",
      " [6. 8. 0.]\n",
      " [5. 6. 3.]\n",
      " [5. 3. 8.]]\n",
      "(4, 3)\n",
      "(3, 4)\n"
     ]
    }
   ],
   "source": [
    "#task 5\n",
    "a = np.floor(10*np.random.random((3, 4)))\n",
    "print(a)\n",
    "print(a.shape)\n",
    "#not modify initial array\n",
    "print(a.ravel()) #Return a contiguous flattened array.\n",
    "print(a.reshape(6, 2))\n",
    "print(a.T)\n",
    "print(a.T.shape)\n",
    "print(a.shape)\n",
    "#resize If the new array is larger than the original array, then the new array is filled with repeated copies of a."
   ]
  },
  {
   "cell_type": "code",
   "execution_count": 6,
   "metadata": {},
   "outputs": [
    {
     "name": "stdout",
     "output_type": "stream",
     "text": [
      "[[2. 0.]\n",
      " [1. 5.]\n",
      " [1. 0.]\n",
      " [6. 0.]]\n",
      "[[2. 0. 1. 0.]\n",
      " [1. 5. 6. 0.]]\n",
      "[[2. 0. 1. 0.]\n",
      " [1. 5. 6. 0.]]\n",
      "[[4. 3.]\n",
      " [2. 8.]]\n",
      "[[4.]\n",
      " [2.]]\n",
      "[[4. 3.]\n",
      " [2. 8.]]\n",
      "[[4. 3.]\n",
      " [2. 8.]]\n",
      "[[2. 0. 1. 0.]\n",
      " [1. 5. 6. 0.]]\n"
     ]
    }
   ],
   "source": [
    "#task 6\n",
    "from numpy import newaxis\n",
    "\n",
    "a=np.floor(10*np.random.random((2, 2)))\n",
    "b=np.floor(10*np.random.random((2, 2)))\n",
    "v = np.vstack((a, b))\n",
    "h = np.hstack((a, b))\n",
    "print(v)\n",
    "print(h)\n",
    "\n",
    "d = np.column_stack((a, b))\n",
    "print(d)\n",
    "c = np.array([4., 2.])\n",
    "e = np.array([3., 8.])\n",
    "f = np.column_stack((c, e))\n",
    "print(f)\n",
    "print(c[:, newaxis])\n",
    "print(np.column_stack((c[:, newaxis], e[:, newaxis])))\n",
    "print(np.hstack((c[:, newaxis], e[:, newaxis])))\n",
    "#hstack along 2 dim\n",
    "#vstack along 1 dim\n",
    "#concatenate along chosen dim\n",
    "g = np.floor(10*np.random.random((2, 12)))\n",
    "print(d)\n",
    "d2 = np.hsplit(a, (3, 4))\n",
    "#vsplit\n",
    "#hsplit\n",
    "#array_split"
   ]
  },
  {
   "cell_type": "code",
   "execution_count": 7,
   "metadata": {},
   "outputs": [
    {
     "name": "stdout",
     "output_type": "stream",
     "text": [
      "True\n",
      "(3, 4)\n",
      "(3, 4)\n",
      "2590223231056\n",
      "2590223231056\n",
      "False\n",
      "True\n",
      "False\n",
      "(3, 4)\n",
      "[[   0    1    2    3]\n",
      " [1234    5    6    7]\n",
      " [   8    9   10   11]]\n",
      "False\n",
      "False\n",
      "[[   0    1    2    3]\n",
      " [1234    5    6    7]\n",
      " [   8    9   10   11]]\n"
     ]
    }
   ],
   "source": [
    "#task 7\n",
    "a = np.arange(12)\n",
    "b = a\n",
    "print(b is a) #true\n",
    "b.shape = 3,4\n",
    "print(b.shape)\n",
    "print(a.shape)\n",
    "def f(x):\n",
    "    print(id(x))\n",
    "print(id(a))\n",
    "f(a)\n",
    "\n",
    "#view creates new array which usue the same data\n",
    "c = a.view()\n",
    "print(c is a) #false\n",
    "print(c.base is a) #true\n",
    "print(c.flags.owndata) #false\n",
    "c.shape = 2, 6\n",
    "print(a.shape) #3, 4\n",
    "c[0,4] = 1234\n",
    "print(a) #data changes\n",
    "\n",
    "d = a.copy()\n",
    "print(d is a)\n",
    "print(d.base is a)\n",
    "d[0, 0] = 999\n",
    "print(a)"
   ]
  },
  {
   "cell_type": "code",
   "execution_count": 8,
   "metadata": {},
   "outputs": [
    {
     "name": "stdout",
     "output_type": "stream",
     "text": [
      "[ 1  1  9 64 25]\n",
      "[[ 9 16]\n",
      " [81 49]]\n",
      "[False False False  True  True  True  True  True  True  True  True  True]\n",
      "[  9  16  25  36  49  64  81 100 121]\n"
     ]
    }
   ],
   "source": [
    "#task 8\n",
    "a = np.arange(12)**2\n",
    "i = np.array([1, 1, 3, 8, 5])\n",
    "print(a[i])\n",
    "j = np.array([[3, 4], [9, 7]])\n",
    "print(a[j])\n",
    "\n",
    "a1 = np.arange(12).reshape(3, 4)\n",
    "b = a > 4\n",
    "print(b)\n",
    "print(a[b])"
   ]
  },
  {
   "cell_type": "code",
   "execution_count": 10,
   "metadata": {},
   "outputs": [
    {
     "data": {
      "image/png": "[encoded data removed]",
      "text/plain": [
       "<Figure size 432x288 with 1 Axes>"
      ]
     },
     "metadata": {
      "needs_background": "light"
     },
     "output_type": "display_data"
    },
    {
     "data": {
      "image/png": "[encoded data removed]",
      "text/plain": [
       "<Figure size 432x288 with 1 Axes>"
      ]
     },
     "metadata": {
      "needs_background": "light"
     },
     "output_type": "display_data"
    }
   ],
   "source": [
    "#task 10\n",
    "import matplotlib.pyplot as plt\n",
    "plt.plot([1, 2, 3, 4])\n",
    "plt.ylabel('some numbers')\n",
    "plt.show()\n",
    "plt.plot([1, 2, 3, 4], [1, 4, 9, 16])\n",
    "plt.show()"
   ]
  },
  {
   "cell_type": "code",
   "execution_count": 11,
   "metadata": {},
   "outputs": [
    {
     "data": {
      "image/png": "[encoded data removed]",
      "text/plain": [
       "<Figure size 432x288 with 1 Axes>"
      ]
     },
     "metadata": {
      "needs_background": "light"
     },
     "output_type": "display_data"
    },
    {
     "data": {
      "image/png": "[encoded data removed]",
      "text/plain": [
       "<Figure size 432x288 with 1 Axes>"
      ]
     },
     "metadata": {
      "needs_background": "light"
     },
     "output_type": "display_data"
    }
   ],
   "source": [
    "#task 11\n",
    "plt.plot([1, 2, 3, 4], [1, 4, 9, 16], 'ro') #create plot with defined values and red circle markers\n",
    "plt.axis([0, 6, 0, 20]) #set plot window size\n",
    "plt.show() #show plot\n",
    "\n",
    "t = np.arange(0., 5., 0.2) #create array from 0 to 5 with step 0.2\n",
    "plt.plot(t, t, 'r--', t, t**2, 'bs', t, t**3, 'g^') # create 3 plots with chosen styles\n",
    "plt.show() #show\n"
   ]
  },
  {
   "cell_type": "code",
   "execution_count": 13,
   "metadata": {},
   "outputs": [
    {
     "data": {
      "image/png": "[encoded data removed]",
      "text/plain": [
       "<Figure size 432x288 with 1 Axes>"
      ]
     },
     "metadata": {
      "needs_background": "light"
     },
     "output_type": "display_data"
    },
    {
     "data": {
      "image/png": "[encoded data removed]",
      "text/plain": [
       "<Figure size 648x216 with 3 Axes>"
      ]
     },
     "metadata": {
      "needs_background": "light"
     },
     "output_type": "display_data"
    }
   ],
   "source": [
    "#task 12\n",
    "data = {'a' : np.arange(50), 'c' : np.random.randint(0, 50, 50), 'd' : np.random.randn(50)}\n",
    "data['b'] = data['a'] + 10*np.random.randn(50)\n",
    "data['d'] = np.abs(data['d']) * 100\n",
    "\n",
    "plt.scatter('a', 'b', c='c', s='d', data=data)\n",
    "plt.xlabel('entry a')\n",
    "plt.ylabel('entry b')\n",
    "plt.show()\n",
    "\n",
    "names = ['group_a', 'group_b', 'group_c']\n",
    "values = [1, 10, 100]\n",
    "plt.figure(1, figsize=(9, 3)) #creates a new figure\n",
    "plt.subplot(131) #n_raws, n_cols, index\n",
    "plt.bar(names, values)\n",
    "plt.subplot(132)\n",
    "plt.scatter(names, values)\n",
    "plt.subplot(133)\n",
    "plt.plot(names, values)\n",
    "plt.suptitle('Categorial plotting')\n",
    "plt.show()"
   ]
  },
  {
   "cell_type": "code",
   "execution_count": 18,
   "metadata": {},
   "outputs": [
    {
     "data": {
      "text/plain": [
       "[None, None, None, None]"
      ]
     },
     "execution_count": 18,
     "metadata": {},
     "output_type": "execute_result"
    },
    {
     "data": {
      "image/png": "[encoded data removed]",
      "text/plain": [
       "<Figure size 432x288 with 1 Axes>"
      ]
     },
     "metadata": {
      "needs_background": "light"
     },
     "output_type": "display_data"
    }
   ],
   "source": [
    "#task 13\n",
    "x = np.arange(0., 5., 0.2)\n",
    "y = x**2\n",
    "plt.plot(x, y, linewidth=2.0)\n",
    "line, = plt.plot(x, y, '-')\n",
    "line.set_antialiased(False)\n",
    "\n",
    "x1=np.arange(0., 5., 0.2)\n",
    "y1=x1**(0.5)\n",
    "x2=np.arange(1., 5., 0.1)\n",
    "y2=x2**(2)\n",
    "lines=plt.plot(x1, y1, x2, y2)\n",
    "plt.setp(lines, color='r', linewidth=2.0)"
   ]
  },
  {
   "cell_type": "code",
   "execution_count": 20,
   "metadata": {},
   "outputs": [
    {
     "data": {
      "image/png": "[encoded data removed]",
      "text/plain": [
       "<Figure size 432x288 with 2 Axes>"
      ]
     },
     "metadata": {
      "needs_background": "light"
     },
     "output_type": "display_data"
    }
   ],
   "source": [
    "#task 14\n",
    "def f(t):\n",
    "    return np.exp(-t) * np.cos(2*np.pi*t)\n",
    "\n",
    "t1=np.arange(0.0, 5.0, 0.1)\n",
    "t2=np.arange(0.0, 5.0, 0.02)\n",
    "\n",
    "plt.figure(1)\n",
    "plt.subplot(211)\n",
    "plt.plot(t1, f(t1), 'bo', t2, f(t2), 'k')\n",
    "\n",
    "plt.subplot(212)\n",
    "plt.plot(t2, np.cos(2*np.pi*t2), 'r--')\n",
    "plt.show()"
   ]
  },
  {
   "cell_type": "code",
   "execution_count": 21,
   "metadata": {},
   "outputs": [
    {
     "data": {
      "image/png": "[encoded data removed]",
      "text/plain": [
       "<Figure size 432x288 with 1 Axes>"
      ]
     },
     "metadata": {
      "needs_background": "light"
     },
     "output_type": "display_data"
    }
   ],
   "source": [
    "#task 15\n",
    "mu, sigma = 100, 15\n",
    "x = mu + sigma *np.random.randn(10000)\n",
    "\n",
    "n, bins, patches = plt.hist(x, 50, density=1, facecolor='g', alpha=0.75)\n",
    "plt.xlabel('Smarts')\n",
    "plt.ylabel('Probability')\n",
    "plt.title('Histogram of IQ')\n",
    "plt.text(60, 0.025, r'$\\mu=100,\\ \\sigma=15$')\n",
    "plt.axis([40, 160, 0, 0.03])\n",
    "plt.grid(True)\n",
    "plt.show()"
   ]
  },
  {
   "cell_type": "code",
   "execution_count": 9,
   "metadata": {},
   "outputs": [
    {
     "data": {
      "image/png": "[encoded data removed]",
      "text/plain": [
       "<matplotlib.figure.Figure at 0x8b27ba8>"
      ]
     },
     "metadata": {},
     "output_type": "display_data"
    }
   ],
   "source": [
    "#task 16\n",
    "y = np.random.normal(loc=0.5, scale=0.4, size=1000)\n",
    "y = y[(y > 0) & (y < 1)]\n",
    "y.sort()\n",
    "x = np.arange(len(y))\n",
    "\n",
    "#linear\n",
    "plt.subplot(121)\n",
    "plt.plot(x, y)\n",
    "plt.yscale('linear')\n",
    "plt.title('linear')\n",
    "plt.grid(True)\n",
    "\n",
    "#log\n",
    "plt.subplot(122)\n",
    "plt.plot(x, y)\n",
    "plt.yscale('log')\n",
    "plt.title('log')\n",
    "plt.grid(True)\n",
    "\n",
    "plt.show()"
   ]
  },
  {
   "cell_type": "code",
   "execution_count": null,
   "metadata": {
    "collapsed": true
   },
   "outputs": [],
   "source": []
  }
 ],
 "metadata": {
  "kernelspec": {
   "display_name": "Python 3",
   "language": "python",
   "name": "python3"
  },
  "language_info": {
   "codemirror_mode": {
    "name": "ipython",
    "version": 3
   },
   "file_extension": ".py",
   "mimetype": "text/x-python",
   "name": "python",
   "nbconvert_exporter": "python",
   "pygments_lexer": "ipython3",
   "version": "3.7.0"
  }
 },
 "nbformat": 4,
 "nbformat_minor": 2
}
